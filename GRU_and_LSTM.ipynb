{
  "nbformat": 4,
  "nbformat_minor": 0,
  "metadata": {
    "colab": {
      "provenance": []
    },
    "kernelspec": {
      "name": "python3",
      "display_name": "Python 3"
    },
    "language_info": {
      "name": "python"
    },
    "accelerator": "GPU",
    "gpuClass": "standard"
  },
  "cells": [
    {
      "cell_type": "markdown",
      "source": [
        "# Generating a bidirectional GRU model and a unidirectional LSTM model to determine which tweet is relevant to be a news story. And assess a couple of sequence model architectures\n"
      ],
      "metadata": {
        "id": "4ByBxooa9OeK"
      }
    },
    {
      "cell_type": "markdown",
      "source": [
        "## Importing all the required dependencies"
      ],
      "metadata": {
        "id": "R-U-91Ra9mzi"
      }
    },
    {
      "cell_type": "code",
      "source": [
        "import pandas as pd\n",
        "import numpy as np\n",
        "\n",
        "%matplotlib inline\n",
        "import nltk.classify.util\n",
        "import string\n",
        "from nltk.tokenize import RegexpTokenizer\n",
        "from nltk.sentiment.util import *\n",
        "import re\n",
        "from keras.preprocessing.text import Tokenizer\n",
        "from keras.utils import pad_sequences\n",
        "from sklearn.preprocessing import LabelBinarizer\n",
        "from sklearn.model_selection import train_test_split\n",
        "\n",
        "from keras.models import Sequential\n",
        "from keras.layers import Dense, Embedding, GRU, Dropout, Bidirectional, SpatialDropout1D, LSTM,  Activation\n",
        "\n"
      ],
      "metadata": {
        "id": "OD_WJuAi9fOt"
      },
      "execution_count": null,
      "outputs": []
    },
    {
      "cell_type": "markdown",
      "source": [
        "## Reading the data from google drive\n"
      ],
      "metadata": {
        "id": "_r12jy3r9yiJ"
      }
    },
    {
      "cell_type": "code",
      "source": [
        "from google.colab import drive\n",
        "drive.mount('/content/drive')\n",
        "\n"
      ],
      "metadata": {
        "colab": {
          "base_uri": "https://localhost:8080/"
        },
        "id": "Czdb2bJv9lUL",
        "outputId": "297047b6-f816-4fc2-b148-b4865a77f961"
      },
      "execution_count": null,
      "outputs": [
        {
          "output_type": "stream",
          "name": "stdout",
          "text": [
            "Mounted at /content/drive\n"
          ]
        }
      ]
    },
    {
      "cell_type": "code",
      "source": [
        "news_df = pd.read_excel(\"drive/My Drive/Data/news-text-sanitized.xlsx\")\n",
        "news_df.head()"
      ],
      "metadata": {
        "colab": {
          "base_uri": "https://localhost:8080/",
          "height": 206
        },
        "id": "u1WMJi-r-Axt",
        "outputId": "a91d9ee7-4baf-4746-ed4a-c239aab29ef3"
      },
      "execution_count": null,
      "outputs": [
        {
          "output_type": "execute_result",
          "data": {
            "text/plain": [
              "       Category  Confidence              Tweet\n",
              "0  Not Relevant         1.0  Hey! How are you?\n",
              "1  Not Relevant         1.0     What's up man?\n",
              "2  Not Relevant         1.0      I love fruits\n",
              "3  Not Relevant         1.0   Summer is lovely\n",
              "4  Not Relevant         1.0  My car is so fast"
            ],
            "text/html": [
              "\n",
              "  <div id=\"df-fcc2ffe0-7557-4a00-828d-4b8ea1fbcaa9\">\n",
              "    <div class=\"colab-df-container\">\n",
              "      <div>\n",
              "<style scoped>\n",
              "    .dataframe tbody tr th:only-of-type {\n",
              "        vertical-align: middle;\n",
              "    }\n",
              "\n",
              "    .dataframe tbody tr th {\n",
              "        vertical-align: top;\n",
              "    }\n",
              "\n",
              "    .dataframe thead th {\n",
              "        text-align: right;\n",
              "    }\n",
              "</style>\n",
              "<table border=\"1\" class=\"dataframe\">\n",
              "  <thead>\n",
              "    <tr style=\"text-align: right;\">\n",
              "      <th></th>\n",
              "      <th>Category</th>\n",
              "      <th>Confidence</th>\n",
              "      <th>Tweet</th>\n",
              "    </tr>\n",
              "  </thead>\n",
              "  <tbody>\n",
              "    <tr>\n",
              "      <th>0</th>\n",
              "      <td>Not Relevant</td>\n",
              "      <td>1.0</td>\n",
              "      <td>Hey! How are you?</td>\n",
              "    </tr>\n",
              "    <tr>\n",
              "      <th>1</th>\n",
              "      <td>Not Relevant</td>\n",
              "      <td>1.0</td>\n",
              "      <td>What's up man?</td>\n",
              "    </tr>\n",
              "    <tr>\n",
              "      <th>2</th>\n",
              "      <td>Not Relevant</td>\n",
              "      <td>1.0</td>\n",
              "      <td>I love fruits</td>\n",
              "    </tr>\n",
              "    <tr>\n",
              "      <th>3</th>\n",
              "      <td>Not Relevant</td>\n",
              "      <td>1.0</td>\n",
              "      <td>Summer is lovely</td>\n",
              "    </tr>\n",
              "    <tr>\n",
              "      <th>4</th>\n",
              "      <td>Not Relevant</td>\n",
              "      <td>1.0</td>\n",
              "      <td>My car is so fast</td>\n",
              "    </tr>\n",
              "  </tbody>\n",
              "</table>\n",
              "</div>\n",
              "      <button class=\"colab-df-convert\" onclick=\"convertToInteractive('df-fcc2ffe0-7557-4a00-828d-4b8ea1fbcaa9')\"\n",
              "              title=\"Convert this dataframe to an interactive table.\"\n",
              "              style=\"display:none;\">\n",
              "        \n",
              "  <svg xmlns=\"http://www.w3.org/2000/svg\" height=\"24px\"viewBox=\"0 0 24 24\"\n",
              "       width=\"24px\">\n",
              "    <path d=\"M0 0h24v24H0V0z\" fill=\"none\"/>\n",
              "    <path d=\"M18.56 5.44l.94 2.06.94-2.06 2.06-.94-2.06-.94-.94-2.06-.94 2.06-2.06.94zm-11 1L8.5 8.5l.94-2.06 2.06-.94-2.06-.94L8.5 2.5l-.94 2.06-2.06.94zm10 10l.94 2.06.94-2.06 2.06-.94-2.06-.94-.94-2.06-.94 2.06-2.06.94z\"/><path d=\"M17.41 7.96l-1.37-1.37c-.4-.4-.92-.59-1.43-.59-.52 0-1.04.2-1.43.59L10.3 9.45l-7.72 7.72c-.78.78-.78 2.05 0 2.83L4 21.41c.39.39.9.59 1.41.59.51 0 1.02-.2 1.41-.59l7.78-7.78 2.81-2.81c.8-.78.8-2.07 0-2.86zM5.41 20L4 18.59l7.72-7.72 1.47 1.35L5.41 20z\"/>\n",
              "  </svg>\n",
              "      </button>\n",
              "      \n",
              "  <style>\n",
              "    .colab-df-container {\n",
              "      display:flex;\n",
              "      flex-wrap:wrap;\n",
              "      gap: 12px;\n",
              "    }\n",
              "\n",
              "    .colab-df-convert {\n",
              "      background-color: #E8F0FE;\n",
              "      border: none;\n",
              "      border-radius: 50%;\n",
              "      cursor: pointer;\n",
              "      display: none;\n",
              "      fill: #1967D2;\n",
              "      height: 32px;\n",
              "      padding: 0 0 0 0;\n",
              "      width: 32px;\n",
              "    }\n",
              "\n",
              "    .colab-df-convert:hover {\n",
              "      background-color: #E2EBFA;\n",
              "      box-shadow: 0px 1px 2px rgba(60, 64, 67, 0.3), 0px 1px 3px 1px rgba(60, 64, 67, 0.15);\n",
              "      fill: #174EA6;\n",
              "    }\n",
              "\n",
              "    [theme=dark] .colab-df-convert {\n",
              "      background-color: #3B4455;\n",
              "      fill: #D2E3FC;\n",
              "    }\n",
              "\n",
              "    [theme=dark] .colab-df-convert:hover {\n",
              "      background-color: #434B5C;\n",
              "      box-shadow: 0px 1px 3px 1px rgba(0, 0, 0, 0.15);\n",
              "      filter: drop-shadow(0px 1px 2px rgba(0, 0, 0, 0.3));\n",
              "      fill: #FFFFFF;\n",
              "    }\n",
              "  </style>\n",
              "\n",
              "      <script>\n",
              "        const buttonEl =\n",
              "          document.querySelector('#df-fcc2ffe0-7557-4a00-828d-4b8ea1fbcaa9 button.colab-df-convert');\n",
              "        buttonEl.style.display =\n",
              "          google.colab.kernel.accessAllowed ? 'block' : 'none';\n",
              "\n",
              "        async function convertToInteractive(key) {\n",
              "          const element = document.querySelector('#df-fcc2ffe0-7557-4a00-828d-4b8ea1fbcaa9');\n",
              "          const dataTable =\n",
              "            await google.colab.kernel.invokeFunction('convertToInteractive',\n",
              "                                                     [key], {});\n",
              "          if (!dataTable) return;\n",
              "\n",
              "          const docLinkHtml = 'Like what you see? Visit the ' +\n",
              "            '<a target=\"_blank\" href=https://colab.research.google.com/notebooks/data_table.ipynb>data table notebook</a>'\n",
              "            + ' to learn more about interactive tables.';\n",
              "          element.innerHTML = '';\n",
              "          dataTable['output_type'] = 'display_data';\n",
              "          await google.colab.output.renderOutput(dataTable, element);\n",
              "          const docLink = document.createElement('div');\n",
              "          docLink.innerHTML = docLinkHtml;\n",
              "          element.appendChild(docLink);\n",
              "        }\n",
              "      </script>\n",
              "    </div>\n",
              "  </div>\n",
              "  "
            ]
          },
          "metadata": {},
          "execution_count": 4
        }
      ]
    },
    {
      "cell_type": "code",
      "source": [
        "news_df.info()"
      ],
      "metadata": {
        "colab": {
          "base_uri": "https://localhost:8080/"
        },
        "id": "tHjlBxn--aml",
        "outputId": "31ffa399-48f0-4279-ab5b-9403f4e42229"
      },
      "execution_count": null,
      "outputs": [
        {
          "output_type": "stream",
          "name": "stdout",
          "text": [
            "<class 'pandas.core.frame.DataFrame'>\n",
            "RangeIndex: 10323 entries, 0 to 10322\n",
            "Data columns (total 3 columns):\n",
            " #   Column      Non-Null Count  Dtype  \n",
            "---  ------      --------------  -----  \n",
            " 0   Category    10323 non-null  object \n",
            " 1   Confidence  10323 non-null  float64\n",
            " 2   Tweet       10323 non-null  object \n",
            "dtypes: float64(1), object(2)\n",
            "memory usage: 242.1+ KB\n"
          ]
        }
      ]
    },
    {
      "cell_type": "code",
      "source": [
        "import matplotlib.pyplot as plt\n",
        "\n",
        "\n",
        "df1 = news_df.groupby(['Category']).count()['Confidence']\n",
        "print(df1)\n",
        "\n",
        "# plot the result\n",
        "df1.plot()\n",
        "plt.xticks(rotation=45)\n",
        "plt.show()"
      ],
      "metadata": {
        "colab": {
          "base_uri": "https://localhost:8080/",
          "height": 596
        },
        "id": "Tt4joocD-gWI",
        "outputId": "04df9d41-b7c5-4e85-8657-925490b6d08a"
      },
      "execution_count": null,
      "outputs": [
        {
          "output_type": "stream",
          "name": "stdout",
          "text": [
            "Category\n",
            "Can't Decide      16\n",
            "Not Relevant    5931\n",
            "Relevant        4376\n",
            "Name: Confidence, dtype: int64\n"
          ]
        },
        {
          "output_type": "display_data",
          "data": {
            "text/plain": [
              "<Figure size 640x480 with 1 Axes>"
            ],
            "image/png": "[encoded data removed]"
          },
          "metadata": {}
        }
      ]
    },
    {
      "cell_type": "code",
      "source": [
        "news_df['Category'].value_counts()[:20].plot(kind='barh')\n"
      ],
      "metadata": {
        "colab": {
          "base_uri": "https://localhost:8080/",
          "height": 447
        },
        "id": "030fN_JW_vz7",
        "outputId": "1080f01f-e32d-4a44-a386-db80ae1ad0a4"
      },
      "execution_count": null,
      "outputs": [
        {
          "output_type": "execute_result",
          "data": {
            "text/plain": [
              "<Axes: >"
            ]
          },
          "metadata": {},
          "execution_count": 7
        },
        {
          "output_type": "display_data",
          "data": {
            "text/plain": [
              "<Figure size 640x480 with 1 Axes>"
            ],
            "image/png": "[encoded data removed]"
          },
          "metadata": {}
        }
      ]
    },
    {
      "cell_type": "markdown",
      "source": [
        "## Data Preprocessing stage starts here\n",
        "\n",
        "Data preprocessing is performed inorder to generate an accurate final result.\n",
        "The given data might not be clean always so it is importent to perform data preprocesing"
      ],
      "metadata": {
        "id": "ztK8TFz3Gq-g"
      }
    },
    {
      "cell_type": "code",
      "source": [
        "import re\n",
        "\n",
        "def word_cleaning(text):\n",
        "    regex = re.compile(r'<[^>]+>')\n",
        "    return regex.sub('', text)\n",
        "\n",
        "news_df['Tweet'] = news_df['Tweet'].apply(word_cleaning)\n",
        "\n",
        "news_df.Tweet"
      ],
      "metadata": {
        "colab": {
          "base_uri": "https://localhost:8080/"
        },
        "id": "OQFJ4xiuAjFS",
        "outputId": "6b69be5c-0820-48a2-ad1b-45ae70cc0c2e"
      },
      "execution_count": null,
      "outputs": [
        {
          "output_type": "execute_result",
          "data": {
            "text/plain": [
              "0                                        Hey! How are you?\n",
              "1                                           What's up man?\n",
              "2                                            I love fruits\n",
              "3                                         Summer is lovely\n",
              "4                                        My car is so fast\n",
              "                               ...                        \n",
              "10318                          Make man pikin crash ??????\n",
              "10319    Disregard my snap story there is an angry whit...\n",
              "10320    #tornado #singapore Mac and #cheese #around th...\n",
              "10321    Check out more data on Upper Wabash reservoirs...\n",
              "10322    Drowning' - Acrylic 08.05.15 https://t.co/X17f...\n",
              "Name: Tweet, Length: 10323, dtype: object"
            ]
          },
          "metadata": {},
          "execution_count": 8
        }
      ]
    },
    {
      "cell_type": "markdown",
      "source": [
        "## **In order to convert lables(in our case Category) in to binary values or binary lables we are using LabelBinarizer**"
      ],
      "metadata": {
        "id": "awnLbKKYEN-_"
      }
    },
    {
      "cell_type": "code",
      "source": [
        "\n",
        "\n",
        "label_binarizer = LabelBinarizer()\n",
        "label_binarizer.fit(news_df.Category)\n",
        "labels = label_binarizer.classes_\n",
        "labels\n",
        "\n"
      ],
      "metadata": {
        "colab": {
          "base_uri": "https://localhost:8080/"
        },
        "id": "3CxAl5bTD_JY",
        "outputId": "554cfc5b-edd7-499c-8bb0-bb02313f6388"
      },
      "execution_count": null,
      "outputs": [
        {
          "output_type": "execute_result",
          "data": {
            "text/plain": [
              "array([\"Can't Decide\", 'Not Relevant', 'Relevant'], dtype='<U12')"
            ]
          },
          "metadata": {},
          "execution_count": 9
        }
      ]
    },
    {
      "cell_type": "code",
      "source": [
        "# Defing the maximum length and maximun words\n",
        "# This can be decreased inorder to reduce the traning time\n",
        "\n",
        "m_len = 100\n",
        "m_word = 8000\n",
        "\n",
        "token = Tokenizer(num_words=m_word, lower=True)\n",
        "token.fit_on_texts(news_df.Tweet)\n"
      ],
      "metadata": {
        "id": "nJ2YUfSsFo8-"
      },
      "execution_count": null,
      "outputs": []
    },
    {
      "cell_type": "code",
      "source": [
        "#In order to make sure that all the sequences in a list have the same length we are using pad_sequences\n",
        "#WE are passing 100 as the maximum length for the pad_sequences\n",
        "\n",
        "sequences = token.texts_to_sequences(news_df.Tweet)\n",
        "X_pad = pad_sequences(sequences, maxlen=m_len, padding='post')\n",
        "print(X_pad.shape)\n"
      ],
      "metadata": {
        "colab": {
          "base_uri": "https://localhost:8080/"
        },
        "id": "W4R4qyUIHi1F",
        "outputId": "2fa3590c-42b8-447d-d78b-ca44a75a9264"
      },
      "execution_count": null,
      "outputs": [
        {
          "output_type": "stream",
          "name": "stdout",
          "text": [
            "(10323, 100)\n"
          ]
        }
      ]
    },
    {
      "cell_type": "markdown",
      "source": [
        "# Now we are splitting the data in to test and train using train_test_split"
      ],
      "metadata": {
        "id": "5Ab5n-MOI4bH"
      }
    },
    {
      "cell_type": "code",
      "source": [
        "# Here we are using X_pad (the sequence which we got after performing pad_sequences)as x and Category as y\n",
        "# here 25% data will be test part and rest will be in train part\n",
        "\n",
        "y = label_binarizer.transform(news_df.Category)\n",
        "\n",
        "x_train, x_test, y_train, y_test = train_test_split(X_pad, y, test_size=0.25, random_state=1000)"
      ],
      "metadata": {
        "id": "_ifHrJ3IHxAk"
      },
      "execution_count": null,
      "outputs": []
    },
    {
      "cell_type": "markdown",
      "source": [
        "## Model building starts here"
      ],
      "metadata": {
        "id": "-Y1tWceeLUYv"
      }
    },
    {
      "cell_type": "markdown",
      "source": [
        "# First model : Bidirectional GRU"
      ],
      "metadata": {
        "id": "8eWuN67FLcQN"
      }
    },
    {
      "cell_type": "code",
      "source": [
        "# Bidirectional GRU is also known as BiGRU\n",
        "# It consist of input and forget gates\n",
        "\n",
        "model1 = Sequential()\n",
        "\n",
        "# adding embedding layer\n",
        "model1.add(Embedding(m_word, 125, input_length=m_len))\n",
        "model1.add(SpatialDropout1D(0.2))\n",
        "model1.add(Bidirectional(GRU(75)))\n",
        "#dropout layer added\n",
        "model1.add(Dropout(0.2))\n",
        "\n",
        "# Adding dense layer along with actiavtion function\n",
        "model1.add(Dense(3, activation='sigmoid'))\n",
        "\n",
        "model1.compile(optimizer='adam', loss='binary_crossentropy', metrics=['categorical_accuracy'])\n",
        "model1.summary()"
      ],
      "metadata": {
        "colab": {
          "base_uri": "https://localhost:8080/"
        },
        "id": "F20rFyt-KFL3",
        "outputId": "825876e9-253f-475e-8a4f-ee21db1baeaf"
      },
      "execution_count": null,
      "outputs": [
        {
          "output_type": "stream",
          "name": "stdout",
          "text": [
            "Model: \"sequential_4\"\n",
            "_________________________________________________________________\n",
            " Layer (type)                Output Shape              Param #   \n",
            "=================================================================\n",
            " embedding_3 (Embedding)     (None, 100, 125)          1000000   \n",
            "                                                                 \n",
            " spatial_dropout1d_3 (Spatia  (None, 100, 125)         0         \n",
            " lDropout1D)                                                     \n",
            "                                                                 \n",
            " bidirectional_3 (Bidirectio  (None, 150)              90900     \n",
            " nal)                                                            \n",
            "                                                                 \n",
            " dropout_3 (Dropout)         (None, 150)               0         \n",
            "                                                                 \n",
            " dense_3 (Dense)             (None, 3)                 453       \n",
            "                                                                 \n",
            "=================================================================\n",
            "Total params: 1,091,353\n",
            "Trainable params: 1,091,353\n",
            "Non-trainable params: 0\n",
            "_________________________________________________________________\n"
          ]
        }
      ]
    },
    {
      "cell_type": "code",
      "source": [
        "x_train.reshape((-1,1))\n",
        "y_train.reshape((-1,1))\n"
      ],
      "metadata": {
        "colab": {
          "base_uri": "https://localhost:8080/"
        },
        "id": "tOJVxe07NeXA",
        "outputId": "19800a53-70a3-43a0-d9a5-d1bab7a90d68"
      },
      "execution_count": null,
      "outputs": [
        {
          "output_type": "execute_result",
          "data": {
            "text/plain": [
              "array([[0],\n",
              "       [1],\n",
              "       [0],\n",
              "       ...,\n",
              "       [0],\n",
              "       [1],\n",
              "       [0]])"
            ]
          },
          "metadata": {},
          "execution_count": 19
        }
      ]
    },
    {
      "cell_type": "code",
      "source": [
        "BiGRU = model1.fit(x_train, y_train,\n",
        "                    # class_weight=class_weight,\n",
        "                    epochs=1,\n",
        "                    batch_size=32,\n",
        "                    validation_split=0.1 )"
      ],
      "metadata": {
        "colab": {
          "base_uri": "https://localhost:8080/"
        },
        "id": "e-AZ8mLqMTrB",
        "outputId": "7d39b4c9-73ab-4fb2-c53a-e0f1227674c1"
      },
      "execution_count": null,
      "outputs": [
        {
          "output_type": "stream",
          "name": "stdout",
          "text": [
            "218/218 [==============================] - 36s 117ms/step - loss: 0.3916 - categorical_accuracy: 0.7056 - val_loss: 0.3000 - val_categorical_accuracy: 0.8000\n"
          ]
        }
      ]
    },
    {
      "cell_type": "markdown",
      "source": [
        "The val_categorical_accuracy accuracy is 80% with a single epoche which is not good technically\n",
        "\n",
        "\n"
      ],
      "metadata": {
        "id": "tCvyE6PyhEJm"
      }
    },
    {
      "cell_type": "code",
      "source": [
        "y_pred = model1.predict(x_test)\n",
        "validation = model1.evaluate(x_test, y_test)\n",
        "\n",
        "print(model1.metrics_names[0], validation[0])\n",
        "print(model1.metrics_names[1], validation[1])"
      ],
      "metadata": {
        "colab": {
          "base_uri": "https://localhost:8080/"
        },
        "id": "1nD2Dmw1PFs4",
        "outputId": "7d982b5f-8bc9-4a16-f954-ce7121f33fca"
      },
      "execution_count": null,
      "outputs": [
        {
          "output_type": "stream",
          "name": "stdout",
          "text": [
            "81/81 [==============================] - 1s 8ms/step\n",
            "81/81 [==============================] - 1s 6ms/step - loss: 0.3212 - categorical_accuracy: 0.7846\n",
            "loss 0.32116687297821045\n",
            "categorical_accuracy 0.7845796346664429\n"
          ]
        }
      ]
    },
    {
      "cell_type": "code",
      "source": [
        "from sklearn.metrics import classification_report\n",
        "pred = (y_pred > 0.5)\n",
        "print(classification_report(y_test, pred,target_names=labels))"
      ],
      "metadata": {
        "colab": {
          "base_uri": "https://localhost:8080/"
        },
        "id": "7eVhohj2PVY_",
        "outputId": "ad950c64-6fa9-463b-ca1d-6c393fded273"
      },
      "execution_count": null,
      "outputs": [
        {
          "output_type": "stream",
          "name": "stdout",
          "text": [
            "              precision    recall  f1-score   support\n",
            "\n",
            "Can't Decide       0.00      0.00      0.00         6\n",
            "Not Relevant       0.79      0.86      0.82      1477\n",
            "    Relevant       0.77      0.70      0.73      1098\n",
            "\n",
            "   micro avg       0.78      0.79      0.78      2581\n",
            "   macro avg       0.52      0.52      0.52      2581\n",
            "weighted avg       0.78      0.79      0.78      2581\n",
            " samples avg       0.78      0.79      0.78      2581\n",
            "\n"
          ]
        },
        {
          "output_type": "stream",
          "name": "stderr",
          "text": [
            "/usr/local/lib/python3.9/dist-packages/sklearn/metrics/_classification.py:1344: UndefinedMetricWarning: Precision and F-score are ill-defined and being set to 0.0 in labels with no predicted samples. Use `zero_division` parameter to control this behavior.\n",
            "  _warn_prf(average, modifier, msg_start, len(result))\n"
          ]
        }
      ]
    },
    {
      "cell_type": "code",
      "source": [
        "\n",
        "from sklearn.metrics import multilabel_confusion_matrix\n",
        "multilabel_confusion_matrix(y_test, pred, labels=None, sample_weight=None)"
      ],
      "metadata": {
        "colab": {
          "base_uri": "https://localhost:8080/"
        },
        "id": "8oDB1ZTpQMWi",
        "outputId": "cb9bb37f-b9a9-4369-84c7-18bf7bf299b4"
      },
      "execution_count": null,
      "outputs": [
        {
          "output_type": "execute_result",
          "data": {
            "text/plain": [
              "array([[[2575,    0],\n",
              "        [   6,    0]],\n",
              "\n",
              "       [[ 760,  344],\n",
              "        [ 213, 1264]],\n",
              "\n",
              "       [[1257,  226],\n",
              "        [ 332,  766]]])"
            ]
          },
          "metadata": {},
          "execution_count": 30
        }
      ]
    },
    {
      "cell_type": "code",
      "source": [],
      "metadata": {
        "id": "7I1nsZGRRNjD"
      },
      "execution_count": null,
      "outputs": []
    },
    {
      "cell_type": "markdown",
      "source": [
        "## Second model : unidirectional LSTM"
      ],
      "metadata": {
        "id": "Go8HxepTQVWK"
      }
    },
    {
      "cell_type": "code",
      "source": [
        "model2 = Sequential()\n",
        "\n",
        "model2.add(Embedding(m_word, output_dim=45, input_length=m_len))\n",
        "model2.add(LSTM(128, return_sequences=True))\n",
        "#dropout layer added\n",
        "model2.add(Dropout(0.5))\n",
        "\n",
        "# secong layer added with one dropout layer\n",
        "model2.add(LSTM(64))\n",
        "model2.add(Dropout(0.5))\n",
        "\n",
        "#Dense output layer with activation function added\n",
        "model2.add(Dense(3))\n",
        "model2.add(Activation('softmax'))\n",
        "\n",
        "\n",
        "model2.compile(optimizer='adam', loss='binary_crossentropy', metrics=['categorical_accuracy'])\n",
        "model2.summary()"
      ],
      "metadata": {
        "colab": {
          "base_uri": "https://localhost:8080/"
        },
        "id": "Hs42Wbz9QUb_",
        "outputId": "65d3647c-b08f-4aa5-f2af-e7db63fd3707"
      },
      "execution_count": null,
      "outputs": [
        {
          "output_type": "stream",
          "name": "stdout",
          "text": [
            "Model: \"sequential_26\"\n",
            "_________________________________________________________________\n",
            " Layer (type)                Output Shape              Param #   \n",
            "=================================================================\n",
            " embedding_24 (Embedding)    (None, 100, 45)           360000    \n",
            "                                                                 \n",
            " lstm_36 (LSTM)              (None, 100, 128)          89088     \n",
            "                                                                 \n",
            " dropout_40 (Dropout)        (None, 100, 128)          0         \n",
            "                                                                 \n",
            " lstm_37 (LSTM)              (None, 64)                49408     \n",
            "                                                                 \n",
            " dropout_41 (Dropout)        (None, 64)                0         \n",
            "                                                                 \n",
            " dense_23 (Dense)            (None, 3)                 195       \n",
            "                                                                 \n",
            " activation_1 (Activation)   (None, 3)                 0         \n",
            "                                                                 \n",
            "=================================================================\n",
            "Total params: 498,691\n",
            "Trainable params: 498,691\n",
            "Non-trainable params: 0\n",
            "_________________________________________________________________\n"
          ]
        }
      ]
    },
    {
      "cell_type": "code",
      "source": [
        "x_train.reshape((-1,1))\n",
        "y_train.reshape((-1,1))"
      ],
      "metadata": {
        "colab": {
          "base_uri": "https://localhost:8080/"
        },
        "id": "vmvXdSm9VYim",
        "outputId": "8247e7e1-62da-40ee-90e8-1d799782c359"
      },
      "execution_count": null,
      "outputs": [
        {
          "output_type": "execute_result",
          "data": {
            "text/plain": [
              "array([[0],\n",
              "       [1],\n",
              "       [0],\n",
              "       ...,\n",
              "       [0],\n",
              "       [1],\n",
              "       [0]])"
            ]
          },
          "metadata": {},
          "execution_count": 73
        }
      ]
    },
    {
      "cell_type": "code",
      "source": [
        "UniLSTM = model2.fit(x_train, y_train,\n",
        "                    epochs=1,\n",
        "                    batch_size=32,\n",
        "                    validation_split=0.1 )"
      ],
      "metadata": {
        "colab": {
          "base_uri": "https://localhost:8080/"
        },
        "id": "13ktcLodUpL8",
        "outputId": "59f58b9d-46a5-4df9-9d5e-d7d04fe3e719"
      },
      "execution_count": null,
      "outputs": [
        {
          "output_type": "stream",
          "name": "stdout",
          "text": [
            "218/218 [==============================] - 38s 148ms/step - loss: 0.4874 - categorical_accuracy: 0.5420 - val_loss: 0.4639 - val_categorical_accuracy: 0.5600\n"
          ]
        }
      ]
    },
    {
      "cell_type": "markdown",
      "source": [
        "The val_categorical_accuracy accuracy is 56% with a single epoche"
      ],
      "metadata": {
        "id": "yeF6uB7eifc9"
      }
    },
    {
      "cell_type": "code",
      "source": [
        "y_pred = model2.predict(x_test)\n",
        "validation = model2.evaluate(x_test, y_test)\n",
        "\n",
        "print(model2.metrics_names[0], validation[0])\n",
        "print(model2.metrics_names[1], validation[1])"
      ],
      "metadata": {
        "colab": {
          "base_uri": "https://localhost:8080/"
        },
        "id": "efcd12Sfbjxo",
        "outputId": "93b19899-0466-4c9c-a8e9-5faec8b6d316"
      },
      "execution_count": null,
      "outputs": [
        {
          "output_type": "stream",
          "name": "stdout",
          "text": [
            "81/81 [==============================] - 1s 6ms/step\n",
            "81/81 [==============================] - 0s 6ms/step - loss: 0.4621 - categorical_accuracy: 0.5723\n",
            "loss 0.4621172845363617\n",
            "categorical_accuracy 0.5722588300704956\n"
          ]
        }
      ]
    },
    {
      "cell_type": "code",
      "source": [
        "pred = (y_pred > 0.5)\n",
        "print(classification_report(y_test, pred,target_names=labels))"
      ],
      "metadata": {
        "colab": {
          "base_uri": "https://localhost:8080/"
        },
        "id": "kC5oQrE9bxxV",
        "outputId": "d6e6ae4b-6e1f-4bfc-f9eb-b9516def04c3"
      },
      "execution_count": null,
      "outputs": [
        {
          "output_type": "stream",
          "name": "stdout",
          "text": [
            "              precision    recall  f1-score   support\n",
            "\n",
            "Can't Decide       0.00      0.00      0.00         6\n",
            "Not Relevant       0.57      1.00      0.73      1477\n",
            "    Relevant       0.00      0.00      0.00      1098\n",
            "\n",
            "   micro avg       0.57      0.57      0.57      2581\n",
            "   macro avg       0.19      0.33      0.24      2581\n",
            "weighted avg       0.33      0.57      0.42      2581\n",
            " samples avg       0.57      0.57      0.57      2581\n",
            "\n"
          ]
        },
        {
          "output_type": "stream",
          "name": "stderr",
          "text": [
            "/usr/local/lib/python3.9/dist-packages/sklearn/metrics/_classification.py:1344: UndefinedMetricWarning: Precision and F-score are ill-defined and being set to 0.0 in labels with no predicted samples. Use `zero_division` parameter to control this behavior.\n",
            "  _warn_prf(average, modifier, msg_start, len(result))\n"
          ]
        }
      ]
    },
    {
      "cell_type": "code",
      "source": [
        "multilabel_confusion_matrix(y_test, pred, labels=None, sample_weight=None)"
      ],
      "metadata": {
        "colab": {
          "base_uri": "https://localhost:8080/"
        },
        "id": "3T9y_MNzb4Bk",
        "outputId": "d26f8252-8179-4e07-d95f-e10f4657bde2"
      },
      "execution_count": null,
      "outputs": [
        {
          "output_type": "execute_result",
          "data": {
            "text/plain": [
              "array([[[2575,    0],\n",
              "        [   6,    0]],\n",
              "\n",
              "       [[   0, 1104],\n",
              "        [   0, 1477]],\n",
              "\n",
              "       [[1483,    0],\n",
              "        [1098,    0]]])"
            ]
          },
          "metadata": {},
          "execution_count": 83
        }
      ]
    },
    {
      "cell_type": "code",
      "source": [
        "%%shell\n",
        "jupyter nbconvert  /content/final.ipynb --to html"
      ],
      "metadata": {
        "colab": {
          "base_uri": "https://localhost:8080/"
        },
        "id": "XYLKBDzNcKKN",
        "outputId": "a837e5fb-1d70-4a8e-f8be-e68959581c6b"
      },
      "execution_count": null,
      "outputs": [
        {
          "output_type": "stream",
          "name": "stdout",
          "text": [
            "[NbConvertApp] Converting notebook /content/final.ipynb to html\n",
            "[NbConvertApp] Writing 700807 bytes to /content/final.html\n"
          ]
        },
        {
          "output_type": "execute_result",
          "data": {
            "text/plain": []
          },
          "metadata": {},
          "execution_count": 88
        }
      ]
    }
  ]
}
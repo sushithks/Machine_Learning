{
  "cells": [
    {
      "cell_type": "code",
      "execution_count": null,
      "metadata": {
        "id": "ktlpZmC6H-Hn"
      },
      "outputs": [],
      "source": [
        "import keras\n",
        "from keras.datasets import mnist, fashion_mnist\n",
        "from keras.models import Sequential, Model\n",
        "from keras.layers import Dense, Dropout, Flatten, Input\n",
        "from keras.layers import Conv2D, MaxPooling2D\n",
        "from keras.layers import Dense, Dropout, Flatten, Conv2D, MaxPool2D, BatchNormalization\n",
        "from keras.preprocessing.image import ImageDataGenerator\n",
        "from keras.callbacks import LearningRateScheduler\n",
        "import matplotlib.pyplot as plt\n",
        "import numpy as np"
      ]
    },
    {
      "cell_type": "code",
      "execution_count": null,
      "metadata": {
        "colab": {
          "base_uri": "https://localhost:8080/"
        },
        "id": "z_JB_AU3H-Hv",
        "outputId": "097eb0bc-5e70-407a-978f-219d4b775ef6"
      },
      "outputs": [
        {
          "name": "stdout",
          "output_type": "stream",
          "text": [
            "x_train shape: (60000, 28, 28, 1)\n",
            "60000 train samples\n",
            "10000 test samples\n"
          ]
        }
      ],
      "source": [
        "#setting parameters, gathering data and basic data preprocessing\n",
        "batch_size = 128\n",
        "num_classes = 10\n",
        "epochs = 12\n",
        "\n",
        "# input image dimensions\n",
        "img_rows, img_cols = 28, 28\n",
        "\n",
        "# pulling the data, split between train and test sets\n",
        "(x_train, y_train), (x_test, y_test) = mnist.load_data()\n",
        "\n",
        "x_train = x_train.reshape(60000,28,28,1)\n",
        "x_test = x_test.reshape(10000,28,28,1)\n",
        "\n",
        "print('x_train shape:', x_train.shape)\n",
        "print(x_train.shape[0], 'train samples')\n",
        "print(x_test.shape[0], 'test samples')\n",
        "\n",
        "# convert class vectors to binary class matrices\n",
        "y_train = keras.utils.to_categorical(y_train, num_classes)\n",
        "y_test = keras.utils.to_categorical(y_test, num_classes)"
      ]
    },
    {
      "cell_type": "code",
      "execution_count": null,
      "metadata": {
        "id": "eVjYlb-YXnae"
      },
      "outputs": [],
      "source": [
        "#building a basic model with 2 conv layers followed by max pooling, then dropout and then fully connected with dropout culminating in softmax\n",
        "basic_model = Sequential()\n",
        "basic_model.add(Conv2D(32, kernel_size=(3, 3),\n",
        "                 activation='relu',\n",
        "                 input_shape=(28,28,1)))\n",
        "basic_model.add(Conv2D(64, (3, 3), activation='relu'))\n",
        "basic_model.add(MaxPooling2D(pool_size=(2, 2)))\n",
        "basic_model.add(Dropout(0.25))\n",
        "basic_model.add(Flatten())\n",
        "basic_model.add(Dense(128, activation='relu'))\n",
        "basic_model.add(Dropout(0.5))\n",
        "basic_model.add(Dense(num_classes, activation='softmax'))"
      ]
    },
    {
      "cell_type": "code",
      "execution_count": null,
      "metadata": {
        "colab": {
          "background_save": true,
          "base_uri": "https://localhost:8080/"
        },
        "id": "NvDjLMhjH-Hz",
        "outputId": "72de3a15-c314-4e53-9c5f-976881ab39c0"
      },
      "outputs": [
        {
          "name": "stdout",
          "output_type": "stream",
          "text": [
            "Epoch 1/12\n",
            "469/469 [==============================] - 204s 431ms/step - loss: 28.9882 - accuracy: 0.1406 - val_loss: 4.9874 - val_accuracy: 0.3751\n",
            "Epoch 2/12\n",
            "469/469 [==============================] - 206s 439ms/step - loss: 12.0204 - accuracy: 0.2489 - val_loss: 2.0269 - val_accuracy: 0.5218\n",
            "Epoch 3/12\n",
            "469/469 [==============================] - 198s 422ms/step - loss: 6.0070 - accuracy: 0.3140 - val_loss: 1.4080 - val_accuracy: 0.5313\n",
            "Epoch 4/12\n",
            "469/469 [==============================] - 200s 426ms/step - loss: 3.5549 - accuracy: 0.3223 - val_loss: 1.5128 - val_accuracy: 0.4748\n",
            "Epoch 5/12\n",
            "469/469 [==============================] - 199s 424ms/step - loss: 2.5858 - accuracy: 0.3189 - val_loss: 1.6184 - val_accuracy: 0.4416\n",
            "Epoch 6/12\n",
            "469/469 [==============================] - 199s 425ms/step - loss: 2.2443 - accuracy: 0.3219 - val_loss: 1.6413 - val_accuracy: 0.4351\n",
            "Epoch 7/12\n",
            "469/469 [==============================] - 196s 418ms/step - loss: 2.0663 - accuracy: 0.3388 - val_loss: 1.5923 - val_accuracy: 0.5274\n",
            "Epoch 8/12\n",
            "469/469 [==============================] - 200s 427ms/step - loss: 1.9783 - accuracy: 0.3794 - val_loss: 1.5411 - val_accuracy: 0.5488\n",
            "Epoch 9/12\n",
            "469/469 [==============================] - 200s 427ms/step - loss: 1.8998 - accuracy: 0.3973 - val_loss: 1.4826 - val_accuracy: 0.5708\n",
            "Epoch 10/12\n",
            "469/469 [==============================] - 194s 413ms/step - loss: 1.8399 - accuracy: 0.4144 - val_loss: 1.4124 - val_accuracy: 0.6008\n",
            "Epoch 11/12\n",
            "469/469 [==============================] - 189s 403ms/step - loss: 1.7808 - accuracy: 0.4294 - val_loss: 1.3526 - val_accuracy: 0.6250\n",
            "Epoch 12/12\n",
            "469/469 [==============================] - 191s 406ms/step - loss: 1.7377 - accuracy: 0.4490 - val_loss: 1.2915 - val_accuracy: 0.6477\n",
            "Train loss: 1.2951050996780396\n",
            "Train accuracy: 0.6395000219345093\n",
            "Test loss: 1.2914848327636719\n",
            "Test accuracy: 0.6477000117301941\n"
          ]
        }
      ],
      "source": [
        "#training and testing the basic model\n",
        "basic_model.compile(loss=keras.losses.categorical_crossentropy,\n",
        "              optimizer=\"adadelta\",\n",
        "              metrics=['accuracy'])\n",
        "\n",
        "basic_model.fit(x_train, y_train,\n",
        "          batch_size=batch_size,\n",
        "          epochs=epochs,\n",
        "          verbose=1,\n",
        "          validation_data=(x_test, y_test))\n",
        "\n",
        "train_score = basic_model.evaluate(x_train, y_train, verbose=0)\n",
        "test_score = basic_model.evaluate(x_test, y_test, verbose=0)\n",
        "print('Train loss:', train_score[0])\n",
        "print('Train accuracy:', train_score[1])\n",
        "print('Test loss:', test_score[0])\n",
        "print('Test accuracy:', test_score[1])"
      ]
    },
    {
      "cell_type": "code",
      "source": [
        "#training and testing the basic model\n",
        "basic_model.compile(loss=keras.losses.categorical_crossentropy,\n",
        "              optimizer=\"adam\",\n",
        "              metrics=['accuracy'])\n",
        "\n",
        "basic_model.fit(x_train, y_train,\n",
        "          batch_size=batch_size,\n",
        "          epochs=epochs,\n",
        "          verbose=1,\n",
        "          validation_data=(x_test, y_test))\n",
        "\n",
        "train_score = basic_model.evaluate(x_train, y_train, verbose=0)\n",
        "test_score = basic_model.evaluate(x_test, y_test, verbose=0)\n",
        "print('Train loss:', train_score[0])\n",
        "print('Train accuracy:', train_score[1])\n",
        "print('Test loss:', test_score[0])\n",
        "print('Test accuracy:', test_score[1])"
      ],
      "metadata": {
        "id": "qiq8cqMtPZrR"
      },
      "execution_count": null,
      "outputs": []
    },
    {
      "cell_type": "code",
      "execution_count": null,
      "metadata": {
        "colab": {
          "background_save": true
        },
        "id": "TzmtBiNVH-Hy"
      },
      "outputs": [],
      "source": [
        "#building a slightly deeper model with 2 rounds of double convolution followed by pooling and dropout before fully connected network\n",
        "model = Sequential()\n",
        "model.add(Conv2D(32, kernel_size=(3, 3), activation='relu', input_shape=(28,28,1)))\n",
        "model.add(Conv2D(64, (3, 3), activation='relu'))\n",
        "model.add(MaxPooling2D(pool_size=(2, 2)))\n",
        "model.add(Dropout(0.4))\n",
        "\n",
        "model.add(Conv2D(32, kernel_size=(3, 3), activation='relu'))\n",
        "model.add(Conv2D(64, (3, 3), activation='relu'))\n",
        "model.add(MaxPooling2D(pool_size=(2, 2)))\n",
        "model.add(Dropout(0.4))\n",
        "\n",
        "model.add(Flatten())\n",
        "model.add(Dense(128, activation='relu'))\n",
        "model.add(Dropout(0.4))\n",
        "model.add(Dense(num_classes, activation='softmax'))"
      ]
    },
    {
      "cell_type": "code",
      "execution_count": null,
      "metadata": {
        "colab": {
          "base_uri": "https://localhost:8080/"
        },
        "id": "bYTcHmBDR11q",
        "outputId": "1140a4fb-36a2-47e8-800e-66f0ff412360"
      },
      "outputs": [
        {
          "name": "stdout",
          "output_type": "stream",
          "text": [
            "Epoch 1/12\n",
            "469/469 [==============================] - 191s 404ms/step - loss: 1.1168 - accuracy: 0.7231 - val_loss: 0.0867 - val_accuracy: 0.9734\n",
            "Epoch 2/12\n",
            "469/469 [==============================] - 188s 401ms/step - loss: 0.1803 - accuracy: 0.9463 - val_loss: 0.0502 - val_accuracy: 0.9841\n",
            "Epoch 3/12\n",
            "469/469 [==============================] - 185s 395ms/step - loss: 0.1206 - accuracy: 0.9641 - val_loss: 0.0358 - val_accuracy: 0.9899\n",
            "Epoch 4/12\n",
            "469/469 [==============================] - 185s 395ms/step - loss: 0.0999 - accuracy: 0.9711 - val_loss: 0.0352 - val_accuracy: 0.9883\n",
            "Epoch 5/12\n",
            "469/469 [==============================] - 181s 386ms/step - loss: 0.0869 - accuracy: 0.9741 - val_loss: 0.0252 - val_accuracy: 0.9917\n",
            "Epoch 6/12\n",
            "469/469 [==============================] - 183s 390ms/step - loss: 0.0748 - accuracy: 0.9771 - val_loss: 0.0246 - val_accuracy: 0.9919\n",
            "Epoch 7/12\n",
            "469/469 [==============================] - 198s 422ms/step - loss: 0.0654 - accuracy: 0.9807 - val_loss: 0.0224 - val_accuracy: 0.9932\n",
            "Epoch 8/12\n",
            "469/469 [==============================] - 190s 406ms/step - loss: 0.0604 - accuracy: 0.9821 - val_loss: 0.0216 - val_accuracy: 0.9932\n",
            "Epoch 9/12\n",
            "469/469 [==============================] - 186s 398ms/step - loss: 0.0575 - accuracy: 0.9833 - val_loss: 0.0242 - val_accuracy: 0.9922\n",
            "Epoch 10/12\n",
            "469/469 [==============================] - 183s 390ms/step - loss: 0.0553 - accuracy: 0.9841 - val_loss: 0.0225 - val_accuracy: 0.9932\n",
            "Epoch 11/12\n",
            "469/469 [==============================] - 183s 391ms/step - loss: 0.0518 - accuracy: 0.9844 - val_loss: 0.0242 - val_accuracy: 0.9932\n",
            "Epoch 12/12\n",
            "469/469 [==============================] - 182s 388ms/step - loss: 0.0507 - accuracy: 0.9850 - val_loss: 0.0188 - val_accuracy: 0.9936\n",
            "Train loss: 0.013715141452848911\n",
            "Train accuracy: 0.9957666397094727\n",
            "Test loss: 0.018816372379660606\n",
            "Test accuracy: 0.9936000108718872\n"
          ]
        }
      ],
      "source": [
        "model.compile(loss=keras.losses.categorical_crossentropy, optimizer=\"adam\",\n",
        "              metrics=['accuracy'])\n",
        "\n",
        "model.fit(x_train, y_train,\n",
        "          batch_size=batch_size,\n",
        "          epochs=epochs,\n",
        "          verbose=1,\n",
        "          validation_data=(x_test, y_test))\n",
        "train_score = model.evaluate(x_train, y_train, verbose=0)\n",
        "test_score = model.evaluate(x_test, y_test, verbose=0)\n",
        "print('Train loss:', train_score[0])\n",
        "print('Train accuracy:', train_score[1])\n",
        "print('Test loss:', test_score[0])\n",
        "print('Test accuracy:', test_score[1])"
      ]
    },
    {
      "cell_type": "code",
      "execution_count": null,
      "metadata": {
        "colab": {
          "base_uri": "https://localhost:8080/",
          "height": 276
        },
        "id": "QoylnL1g0R0t",
        "outputId": "454695cf-cd29-44b8-9502-6de08e7b7e9b"
      },
      "outputs": [
        {
          "data": {
            "image/png": "[encoded data removed]",
            "text/plain": [
              "<Figure size 1080x324 with 30 Axes>"
            ]
          },
          "metadata": {},
          "output_type": "display_data"
        }
      ],
      "source": [
        "#check the data\n",
        "plt.figure(figsize=(15,4.5))\n",
        "for i in range(30):\n",
        "    plt.subplot(3, 10, i+1)\n",
        "    plt.imshow(x_train[i].reshape((28,28)),cmap=plt.cm.binary)\n",
        "    plt.axis('off')\n",
        "plt.subplots_adjust(wspace=-0.1, hspace=-0.1)\n",
        "plt.show()"
      ]
    },
    {
      "cell_type": "code",
      "execution_count": null,
      "metadata": {
        "id": "OxfWcjeVzLn9"
      },
      "outputs": [],
      "source": [
        "#Scale values\n",
        "x_train = x_train / 255.0\n",
        "x_test = x_test / 255.0"
      ]
    },
    {
      "cell_type": "code",
      "execution_count": null,
      "metadata": {
        "id": "CY3umGqs7a-d"
      },
      "outputs": [],
      "source": [
        "#Image Augmentation by rotation, scaling and translation\n",
        "datagen = ImageDataGenerator(\n",
        "        rotation_range=10,\n",
        "        zoom_range = 0.10,\n",
        "        width_shift_range=0.1,\n",
        "        height_shift_range=0.1)"
      ]
    },
    {
      "cell_type": "code",
      "execution_count": null,
      "metadata": {
        "colab": {
          "base_uri": "https://localhost:8080/",
          "height": 276
        },
        "id": "lK-SiibQ71ck",
        "outputId": "4010d4c0-caa1-4b0b-f001-86a84b953ed1"
      },
      "outputs": [
        {
          "data": {
            "image/png": "[encoded data removed]",
            "text/plain": [
              "<Figure size 1080x324 with 30 Axes>"
            ]
          },
          "metadata": {},
          "output_type": "display_data"
        }
      ],
      "source": [
        "#Checkout the new augmented images\n",
        "x_train3 = x_train[9,].reshape((1,28,28,1))\n",
        "y_train3 = y_train[9,].reshape((1,10))\n",
        "plt.figure(figsize=(15,4.5))\n",
        "for i in range(30):\n",
        "    plt.subplot(3, 10, i+1)\n",
        "    x_train2, y_train2 = datagen.flow(x_train3,y_train3).next()\n",
        "    plt.imshow(x_train2[0].reshape((28,28)),cmap=plt.cm.binary)\n",
        "    plt.axis('off')\n",
        "    if i==9: x_train3 = x_train[11,].reshape((1,28,28,1))\n",
        "    if i==19: x_train3 = x_train[18,].reshape((1,28,28,1))\n",
        "plt.subplots_adjust(wspace=-0.1, hspace=-0.1)\n",
        "plt.show()"
      ]
    },
    {
      "cell_type": "code",
      "execution_count": null,
      "metadata": {
        "id": "6PvJ7FHo8pBf"
      },
      "outputs": [],
      "source": [
        "model = Sequential()\n",
        "model.add(Conv2D(32, kernel_size = 3, activation='relu', input_shape = (28, 28, 1)))\n",
        "model.add(BatchNormalization())\n",
        "model.add(Conv2D(32, kernel_size = 3, activation='relu'))\n",
        "model.add(BatchNormalization())\n",
        "model.add(Conv2D(32, kernel_size = 5, strides=2, padding='same', activation='relu'))\n",
        "model.add(BatchNormalization())\n",
        "model.add(Dropout(0.35))\n",
        "\n",
        "model.add(Conv2D(64, kernel_size = 3, activation='relu'))\n",
        "model.add(BatchNormalization())\n",
        "model.add(Conv2D(64, kernel_size = 3, activation='relu'))\n",
        "model.add(BatchNormalization())\n",
        "model.add(Conv2D(64, kernel_size = 5, strides=2, padding='same', activation='relu'))\n",
        "model.add(BatchNormalization())\n",
        "model.add(Dropout(0.35))\n",
        "\n",
        "model.add(Conv2D(128, kernel_size = 4, activation='relu'))\n",
        "model.add(BatchNormalization())\n",
        "model.add(Flatten())\n",
        "model.add(Dropout(0.35))\n",
        "model.add(Dense(10, activation='softmax'))\n",
        "\n",
        "model.compile(optimizer=\"adam\", loss=\"categorical_crossentropy\", metrics=[\"accuracy\"])"
      ]
    },
    {
      "cell_type": "code",
      "execution_count": null,
      "metadata": {
        "colab": {
          "base_uri": "https://localhost:8080/",
          "height": 602
        },
        "id": "y0UOYghs9alR",
        "outputId": "4d0c51c8-6260-4878-ccc0-08d5e16eb690"
      },
      "outputs": [
        {
          "name": "stdout",
          "output_type": "stream",
          "text": [
            "Epoch 1/10\n"
          ]
        },
        {
          "name": "stderr",
          "output_type": "stream",
          "text": [
            "<ipython-input-33-601c20792760>:5: UserWarning: `Model.fit_generator` is deprecated and will be removed in a future version. Please use `Model.fit`, which supports generators.\n",
            "  trained_model = model.fit_generator(datagen.flow(x_train,y_train, batch_size=64),\n"
          ]
        },
        {
          "name": "stdout",
          "output_type": "stream",
          "text": [
            "937/937 [==============================] - 274s 288ms/step - loss: 0.3056 - accuracy: 0.9066 - val_loss: 0.0377 - val_accuracy: 0.9868 - lr: 0.0010\n",
            "Epoch 2/10\n",
            "937/937 [==============================] - 272s 291ms/step - loss: 0.0973 - accuracy: 0.9703 - val_loss: 0.0876 - val_accuracy: 0.9751 - lr: 9.5000e-04\n",
            "Epoch 3/10\n",
            "937/937 [==============================] - 273s 292ms/step - loss: 0.0752 - accuracy: 0.9774 - val_loss: 0.0236 - val_accuracy: 0.9933 - lr: 9.0250e-04\n",
            "Epoch 4/10\n",
            "937/937 [==============================] - 270s 289ms/step - loss: 0.0627 - accuracy: 0.9806 - val_loss: 0.0174 - val_accuracy: 0.9944 - lr: 8.5737e-04\n",
            "Epoch 5/10\n",
            "937/937 [==============================] - 274s 293ms/step - loss: 0.0580 - accuracy: 0.9831 - val_loss: 0.0224 - val_accuracy: 0.9922 - lr: 8.1451e-04\n",
            "Epoch 6/10\n",
            "937/937 [==============================] - 276s 294ms/step - loss: 0.0517 - accuracy: 0.9843 - val_loss: 0.0177 - val_accuracy: 0.9941 - lr: 7.7378e-04\n",
            "Epoch 7/10\n",
            "937/937 [==============================] - 270s 288ms/step - loss: 0.0461 - accuracy: 0.9860 - val_loss: 0.0198 - val_accuracy: 0.9942 - lr: 7.3509e-04\n",
            "Epoch 8/10\n",
            "937/937 [==============================] - 270s 288ms/step - loss: 0.0439 - accuracy: 0.9864 - val_loss: 0.0233 - val_accuracy: 0.9926 - lr: 6.9834e-04\n",
            "Epoch 9/10\n",
            "937/937 [==============================] - 270s 289ms/step - loss: 0.0393 - accuracy: 0.9878 - val_loss: 0.0162 - val_accuracy: 0.9947 - lr: 6.6342e-04\n",
            "Epoch 10/10\n",
            "937/937 [==============================] - 273s 291ms/step - loss: 0.0382 - accuracy: 0.9884 - val_loss: 0.0149 - val_accuracy: 0.9954 - lr: 6.3025e-04\n"
          ]
        },
        {
          "ename": "KeyError",
          "evalue": "ignored",
          "output_type": "error",
          "traceback": [
            "\u001b[0;31m---------------------------------------------------------------------------\u001b[0m",
            "\u001b[0;31mKeyError\u001b[0m                                  Traceback (most recent call last)",
            "\u001b[0;32m<ipython-input-33-601c20792760>\u001b[0m in \u001b[0;36m<module>\u001b[0;34m\u001b[0m\n\u001b[1;32m      7\u001b[0m         validation_data = (x_test,y_test), callbacks=[annealer], verbose=1)\n\u001b[1;32m      8\u001b[0m print(\"CNN: Epochs={1:d}, Train accuracy={2:.5f}, Validation accuracy={3:.5f}\".format(\n\u001b[0;32m----> 9\u001b[0;31m         epochs,max(trained_model.history['acc']),max(trained_model.history['val_acc']) ))\n\u001b[0m",
            "\u001b[0;31mKeyError\u001b[0m: 'acc'"
          ]
        }
      ],
      "source": [
        "#Annealing the learning rate\n",
        "annealer = LearningRateScheduler(lambda x: 1e-3 * 0.95 ** x)\n",
        "#Train the model\n",
        "epochs = 10\n",
        "trained_model = model.fit_generator(datagen.flow(x_train,y_train, batch_size=64),\n",
        "        epochs = epochs, steps_per_epoch = x_train.shape[0]//64,\n",
        "        validation_data = (x_test,y_test), callbacks=[annealer], verbose=1)\n",
        "print(\"CNN: Epochs={1:d}, Train accuracy={2:.5f}, Validation accuracy={3:.5f}\".format(\n",
        "        epochs,max(trained_model.history['accuracy']),max(trained_model.history['val_accuracy']) ))"
      ]
    },
    {
      "cell_type": "code",
      "execution_count": null,
      "metadata": {
        "colab": {
          "base_uri": "https://localhost:8080/"
        },
        "id": "wqWtg7cKBUK_",
        "outputId": "8dfc7d98-4a01-4a2b-c31e-0040c9418490"
      },
      "outputs": [
        {
          "data": {
            "text/plain": [
              "dict_keys(['loss', 'accuracy', 'val_loss', 'val_accuracy', 'lr'])"
            ]
          },
          "execution_count": 36,
          "metadata": {},
          "output_type": "execute_result"
        }
      ],
      "source": [
        "trained_model.history.keys()"
      ]
    },
    {
      "cell_type": "code",
      "execution_count": null,
      "metadata": {
        "colab": {
          "base_uri": "https://localhost:8080/"
        },
        "id": "RQGQHQnHAvoR",
        "outputId": "c9a0cb5f-3597-4dfa-9408-709d04c93097"
      },
      "outputs": [
        {
          "name": "stdout",
          "output_type": "stream",
          "text": [
            "Train loss: 0.30555951595306396\n",
            "Train accuracy: 0.9884042739868164\n",
            "Test loss: 0.08764498680830002\n",
            "Test accuracy: 0.9954000115394592\n"
          ]
        }
      ],
      "source": [
        "print('Train loss:', max(trained_model.history['loss']))\n",
        "print('Train accuracy:', max(trained_model.history['accuracy']))\n",
        "print('Test loss:', max(trained_model.history['val_loss']))\n",
        "print('Test accuracy:', max(trained_model.history['val_accuracy']))"
      ]
    },
    {
      "cell_type": "code",
      "execution_count": null,
      "metadata": {
        "colab": {
          "base_uri": "https://localhost:8080/"
        },
        "id": "JujHWnAqH-Hy",
        "outputId": "e3116ad4-2ba5-4574-ac1c-1b4e77406e50"
      },
      "outputs": [
        {
          "name": "stdout",
          "output_type": "stream",
          "text": [
            "(40000, 28, 28, 1)\n",
            "(10000, 28, 28, 1)\n",
            "(10000, 28, 28, 1)\n",
            "(40000, 10)\n",
            "(10000, 10)\n",
            "(10000, 10)\n"
          ]
        }
      ],
      "source": [
        "x1_train = x_train[0:40000]\n",
        "y1_train = y_train[0:40000]\n",
        "x2_train = x_train[40000:50000]\n",
        "y2_train = y_train[40000:50000]\n",
        "x3_train = x_train[50000:60000]\n",
        "y3_train = y_train[50000:60000]\n",
        "print(x1_train.shape)\n",
        "print(x2_train.shape)\n",
        "print(x3_train.shape)\n",
        "print(y1_train.shape)\n",
        "print(y2_train.shape)\n",
        "print(y3_train.shape)"
      ]
    },
    {
      "cell_type": "code",
      "execution_count": null,
      "metadata": {
        "colab": {
          "base_uri": "https://localhost:8080/"
        },
        "id": "G4Yqg4VPH-H1",
        "outputId": "549978d7-7ff5-4cb4-b3ab-1c5a7c5e1d8b"
      },
      "outputs": [
        {
          "name": "stdout",
          "output_type": "stream",
          "text": [
            "(40000, 28, 28, 1)\n",
            "(10000, 28, 28, 1)\n",
            "(10000, 28, 28, 1)\n",
            "(40000, 10)\n",
            "(10000, 10)\n",
            "(10000, 10)\n"
          ]
        }
      ],
      "source": [
        "x1_train = x_train[0:40000]\n",
        "y1_train = y_train[0:40000]\n",
        "x2_train = x_train[40000:50000]\n",
        "y2_train = y_train[40000:50000]\n",
        "x3_train = x_train[50000:60000]\n",
        "y3_train = y_train[50000:60000]\n",
        "print(x1_train.shape)\n",
        "print(x2_train.shape)\n",
        "print(x3_train.shape)\n",
        "print(y1_train.shape)\n",
        "print(y2_train.shape)\n",
        "print(y3_train.shape)"
      ]
    },
    {
      "cell_type": "code",
      "execution_count": null,
      "metadata": {
        "id": "eBYlftggH-H2"
      },
      "outputs": [],
      "source": [
        "model = Sequential()\n",
        "model.add(Conv2D(32, kernel_size=(3, 3),\n",
        "                 activation='relu',\n",
        "                 input_shape=(28,28,1)))\n",
        "model.add(Conv2D(64, (3, 3), activation='relu'))\n",
        "model.add(MaxPooling2D(pool_size=(2, 2)))\n",
        "model.add(Dropout(0.25))\n",
        "model.add(Flatten())\n",
        "model.add(Dense(128, activation='relu'))\n",
        "model.add(Dropout(0.5))\n",
        "model.add(Dense(num_classes, activation='softmax'))"
      ]
    },
    {
      "cell_type": "code",
      "execution_count": null,
      "metadata": {
        "colab": {
          "base_uri": "https://localhost:8080/"
        },
        "id": "694G9rYHH-H2",
        "outputId": "ede12390-29c5-44dd-a4f1-a612703c8dae"
      },
      "outputs": [
        {
          "name": "stdout",
          "output_type": "stream",
          "text": [
            "Epoch 1/12\n",
            "313/313 [==============================] - 75s 237ms/step - loss: 37.3063 - accuracy: 0.1230 - val_loss: 8.1878 - val_accuracy: 0.3016\n",
            "Epoch 2/12\n",
            "313/313 [==============================] - 74s 236ms/step - loss: 20.8778 - accuracy: 0.1958 - val_loss: 3.3702 - val_accuracy: 0.5060\n",
            "Epoch 3/12\n",
            "313/313 [==============================] - 74s 236ms/step - loss: 12.5665 - accuracy: 0.2693 - val_loss: 1.8705 - val_accuracy: 0.6343\n",
            "Epoch 4/12\n",
            "313/313 [==============================] - 74s 237ms/step - loss: 8.0748 - accuracy: 0.3281 - val_loss: 1.3020 - val_accuracy: 0.6652\n",
            "Epoch 5/12\n",
            "313/313 [==============================] - 74s 236ms/step - loss: 5.5750 - accuracy: 0.3557 - val_loss: 1.1051 - val_accuracy: 0.6565\n",
            "Epoch 6/12\n",
            "313/313 [==============================] - 74s 235ms/step - loss: 4.0606 - accuracy: 0.3701 - val_loss: 1.1495 - val_accuracy: 0.6293\n",
            "Epoch 7/12\n",
            "313/313 [==============================] - 74s 237ms/step - loss: 3.1204 - accuracy: 0.3731 - val_loss: 1.3086 - val_accuracy: 0.5951\n",
            "Epoch 8/12\n",
            "313/313 [==============================] - 72s 231ms/step - loss: 2.5877 - accuracy: 0.3708 - val_loss: 1.4399 - val_accuracy: 0.5669\n",
            "Epoch 9/12\n",
            "313/313 [==============================] - 73s 234ms/step - loss: 2.3271 - accuracy: 0.3791 - val_loss: 1.5302 - val_accuracy: 0.5769\n",
            "Epoch 10/12\n",
            "313/313 [==============================] - 73s 232ms/step - loss: 2.1428 - accuracy: 0.3925 - val_loss: 1.5582 - val_accuracy: 0.5712\n",
            "Epoch 11/12\n",
            "313/313 [==============================] - 73s 232ms/step - loss: 2.0197 - accuracy: 0.4017 - val_loss: 1.5479 - val_accuracy: 0.5760\n",
            "Epoch 12/12\n",
            "313/313 [==============================] - 73s 233ms/step - loss: 1.9598 - accuracy: 0.4099 - val_loss: 1.5194 - val_accuracy: 0.5884\n",
            "Train loss: 1.5144495964050293\n",
            "Train accuracy: 0.5889999866485596\n",
            "Test loss: 1.519361138343811\n",
            "Test accuracy: 0.5884000062942505\n",
            "Train2 loss: 1.5216864347457886\n",
            "Train2 accuracy: 0.5849999785423279\n",
            "Train3 loss: 1.4771519899368286\n",
            "Train3 accuracy: 0.6065999865531921\n"
          ]
        }
      ],
      "source": [
        "model.compile(loss=keras.losses.categorical_crossentropy,\n",
        "              optimizer=keras.optimizers.Adadelta(),\n",
        "              metrics=['accuracy'])\n",
        "\n",
        "model.fit(x1_train, y1_train,\n",
        "          batch_size=batch_size,\n",
        "          epochs=epochs,\n",
        "          verbose=1,\n",
        "          validation_data=(x_test, y_test))\n",
        "score = model.evaluate(x2_train, y2_train, verbose=0)\n",
        "score1 = model.evaluate(x1_train, y1_train, verbose=0)\n",
        "score2 = model.evaluate(x3_train, y3_train, verbose=0)\n",
        "score3 = model.evaluate(x_test, y_test, verbose=0)\n",
        "print('Train loss:', score1[0])\n",
        "print('Train accuracy:', score1[1])\n",
        "print('Test loss:', score3[0])\n",
        "print('Test accuracy:', score3[1])\n",
        "print('Train2 loss:', score[0])\n",
        "print('Train2 accuracy:', score[1])\n",
        "print('Train3 loss:', score2[0])\n",
        "print('Train3 accuracy:', score2[1])"
      ]
    },
    {
      "cell_type": "code",
      "execution_count": null,
      "metadata": {
        "id": "MwwUMBhNH-H3"
      },
      "outputs": [],
      "source": [
        "model = Sequential()\n",
        "model.add(Conv2D(32, kernel_size=(3, 3),\n",
        "                 activation='relu',\n",
        "                 input_shape=(28,28,1)))\n",
        "model.add(MaxPooling2D(pool_size=(2, 2)))\n",
        "model.add(Conv2D(64, (3, 3), activation='relu'))\n",
        "model.add(MaxPooling2D(pool_size=(2, 2)))\n",
        "model.add(Conv2D(128, (3, 3), activation='relu'))\n",
        "model.add(MaxPooling2D(pool_size=(2, 2)))\n",
        "model.add(Dropout(0.25))\n",
        "model.add(Flatten())\n",
        "model.add(Dense(256, activation='relu'))\n",
        "model.add(Dropout(0.5))\n",
        "model.add(Dense(128, activation='relu'))\n",
        "model.add(Dropout(0.5))\n",
        "model.add(Dense(num_classes, activation='softmax'))"
      ]
    },
    {
      "cell_type": "code",
      "execution_count": null,
      "metadata": {
        "colab": {
          "base_uri": "https://localhost:8080/"
        },
        "id": "SruM0A52H-H4",
        "outputId": "fa7c902d-a3de-4faf-a532-c3933f625943"
      },
      "outputs": [
        {
          "name": "stdout",
          "output_type": "stream",
          "text": [
            "Epoch 1/12\n",
            "313/313 [==============================] - 29s 89ms/step - loss: 29.9448 - accuracy: 0.0944 - val_loss: 8.3055 - val_accuracy: 0.0546\n",
            "Epoch 2/12\n",
            "313/313 [==============================] - 26s 85ms/step - loss: 23.0185 - accuracy: 0.0990 - val_loss: 5.8404 - val_accuracy: 0.0664\n",
            "Epoch 3/12\n",
            "313/313 [==============================] - 26s 84ms/step - loss: 18.2080 - accuracy: 0.0975 - val_loss: 4.2939 - val_accuracy: 0.0869\n",
            "Epoch 4/12\n",
            "313/313 [==============================] - 27s 87ms/step - loss: 14.3791 - accuracy: 0.1050 - val_loss: 3.2806 - val_accuracy: 0.1297\n",
            "Epoch 5/12\n",
            "313/313 [==============================] - 26s 84ms/step - loss: 11.5683 - accuracy: 0.1059 - val_loss: 2.7231 - val_accuracy: 0.1834\n",
            "Epoch 6/12\n",
            "313/313 [==============================] - 26s 84ms/step - loss: 9.5661 - accuracy: 0.1097 - val_loss: 2.4278 - val_accuracy: 0.2264\n",
            "Epoch 7/12\n",
            "313/313 [==============================] - 26s 84ms/step - loss: 8.0252 - accuracy: 0.1167 - val_loss: 2.2780 - val_accuracy: 0.2472\n",
            "Epoch 8/12\n",
            "313/313 [==============================] - 27s 86ms/step - loss: 6.8705 - accuracy: 0.1214 - val_loss: 2.1850 - val_accuracy: 0.2552\n",
            "Epoch 9/12\n",
            "313/313 [==============================] - 27s 86ms/step - loss: 6.0255 - accuracy: 0.1215 - val_loss: 2.1146 - val_accuracy: 0.2717\n",
            "Epoch 10/12\n",
            "313/313 [==============================] - 26s 84ms/step - loss: 5.3449 - accuracy: 0.1247 - val_loss: 2.0678 - val_accuracy: 0.2803\n",
            "Epoch 11/12\n",
            "313/313 [==============================] - 27s 87ms/step - loss: 4.7678 - accuracy: 0.1279 - val_loss: 2.0266 - val_accuracy: 0.2958\n",
            "Epoch 12/12\n",
            "313/313 [==============================] - 26s 83ms/step - loss: 4.3402 - accuracy: 0.1295 - val_loss: 1.9955 - val_accuracy: 0.3020\n",
            "Train loss: 1.9881597757339478\n",
            "Train accuracy: 0.30970001220703125\n",
            "Test loss: 1.9955109357833862\n",
            "Test accuracy: 0.3019999861717224\n",
            "Train2 loss: 2.0073416233062744\n",
            "Train2 accuracy: 0.2989000082015991\n",
            "Train3 loss: 1.9825999736785889\n",
            "Train3 accuracy: 0.31619998812675476\n"
          ]
        }
      ],
      "source": [
        "model.compile(loss=keras.losses.categorical_crossentropy,\n",
        "              optimizer=keras.optimizers.Adadelta(),\n",
        "              metrics=['accuracy'])\n",
        "\n",
        "model.fit(x1_train, y1_train,\n",
        "          batch_size=batch_size,\n",
        "          epochs=epochs,\n",
        "          verbose=1,\n",
        "          validation_data=(x_test, y_test))\n",
        "score = model.evaluate(x2_train, y2_train, verbose=0)\n",
        "score1 = model.evaluate(x1_train, y1_train, verbose=0)\n",
        "score2 = model.evaluate(x3_train, y3_train, verbose=0)\n",
        "score3 = model.evaluate(x_test, y_test, verbose=0)\n",
        "print('Train loss:', score1[0])\n",
        "print('Train accuracy:', score1[1])\n",
        "print('Test loss:', score3[0])\n",
        "print('Test accuracy:', score3[1])\n",
        "print('Train2 loss:', score[0])\n",
        "print('Train2 accuracy:', score[1])\n",
        "print('Train3 loss:', score2[0])\n",
        "print('Train3 accuracy:', score2[1])"
      ]
    },
    {
      "cell_type": "code",
      "execution_count": null,
      "metadata": {
        "id": "pXIb1eKfH-H4"
      },
      "outputs": [],
      "source": [
        "model = Sequential()\n",
        "model.add(Conv2D(32, kernel_size=(3, 3),\n",
        "                 activation='relu',\n",
        "                 input_shape=(28,28,1)))\n",
        "model.add(Conv2D(64, (3, 3), activation='relu'))\n",
        "model.add(MaxPooling2D(pool_size=(2, 2)))\n",
        "model.add(Conv2D(128, (3, 3), activation='relu'))\n",
        "model.add(MaxPooling2D(pool_size=(2, 2)))\n",
        "model.add(Dropout(0.25))\n",
        "model.add(Flatten())\n",
        "model.add(Dense(256, activation='relu'))\n",
        "model.add(Dropout(0.5))\n",
        "model.add(Dense(128, activation='relu'))\n",
        "model.add(Dropout(0.5))\n",
        "model.add(Dense(num_classes, activation='softmax'))"
      ]
    },
    {
      "cell_type": "code",
      "execution_count": null,
      "metadata": {
        "colab": {
          "base_uri": "https://localhost:8080/"
        },
        "id": "wP-bcVX1H-H5",
        "outputId": "557f4dc1-afa0-4dd6-9e30-0a7b9eab5717"
      },
      "outputs": [
        {
          "name": "stdout",
          "output_type": "stream",
          "text": [
            "Epoch 1/12\n",
            "313/313 [==============================] - 102s 326ms/step - loss: 37.2821 - accuracy: 0.1018 - val_loss: 5.6161 - val_accuracy: 0.1266\n",
            "Epoch 2/12\n",
            "313/313 [==============================] - 104s 331ms/step - loss: 22.7151 - accuracy: 0.1169 - val_loss: 3.6183 - val_accuracy: 0.2921\n",
            "Epoch 3/12\n",
            "313/313 [==============================] - 103s 328ms/step - loss: 15.7743 - accuracy: 0.1341 - val_loss: 2.6621 - val_accuracy: 0.3413\n",
            "Epoch 4/12\n",
            "313/313 [==============================] - 104s 331ms/step - loss: 11.5727 - accuracy: 0.1507 - val_loss: 2.0439 - val_accuracy: 0.3922\n",
            "Epoch 5/12\n",
            "313/313 [==============================] - 102s 328ms/step - loss: 9.0154 - accuracy: 0.1585 - val_loss: 1.7409 - val_accuracy: 0.4335\n",
            "Epoch 6/12\n",
            "313/313 [==============================] - 108s 344ms/step - loss: 7.1533 - accuracy: 0.1675 - val_loss: 1.6331 - val_accuracy: 0.4566\n",
            "Epoch 7/12\n",
            "313/313 [==============================] - 104s 333ms/step - loss: 5.7876 - accuracy: 0.1785 - val_loss: 1.6332 - val_accuracy: 0.4635\n",
            "Epoch 8/12\n",
            "313/313 [==============================] - 104s 332ms/step - loss: 4.8375 - accuracy: 0.1850 - val_loss: 1.6823 - val_accuracy: 0.4642\n",
            "Epoch 9/12\n",
            "313/313 [==============================] - 107s 343ms/step - loss: 4.1260 - accuracy: 0.1896 - val_loss: 1.7440 - val_accuracy: 0.4586\n",
            "Epoch 10/12\n",
            "313/313 [==============================] - 102s 326ms/step - loss: 3.6052 - accuracy: 0.1946 - val_loss: 1.8152 - val_accuracy: 0.4443\n",
            "Epoch 11/12\n",
            "313/313 [==============================] - 103s 328ms/step - loss: 3.1967 - accuracy: 0.1991 - val_loss: 1.8799 - val_accuracy: 0.4450\n",
            "Epoch 12/12\n",
            "313/313 [==============================] - 103s 331ms/step - loss: 2.9138 - accuracy: 0.2001 - val_loss: 1.9295 - val_accuracy: 0.4504\n",
            "Train loss: 1.9324381351470947\n",
            "Train accuracy: 0.4568749964237213\n",
            "Test loss: 1.9295451641082764\n",
            "Test accuracy: 0.4503999948501587\n",
            "Train2 loss: 1.9362367391586304\n",
            "Train2 accuracy: 0.45320001244544983\n",
            "Train3 loss: 1.9270027875900269\n",
            "Train3 accuracy: 0.46470001339912415\n"
          ]
        }
      ],
      "source": [
        "model.compile(loss=keras.losses.categorical_crossentropy,\n",
        "              optimizer=keras.optimizers.Adadelta(),\n",
        "              metrics=['accuracy'])\n",
        "\n",
        "model.fit(x1_train, y1_train,\n",
        "          batch_size=batch_size,\n",
        "          epochs=epochs,\n",
        "          verbose=1,\n",
        "          validation_data=(x_test, y_test))\n",
        "score = model.evaluate(x2_train, y2_train, verbose=0)\n",
        "score1 = model.evaluate(x1_train, y1_train, verbose=0)\n",
        "score2 = model.evaluate(x3_train, y3_train, verbose=0)\n",
        "score3 = model.evaluate(x_test, y_test, verbose=0)\n",
        "print('Train loss:', score1[0])\n",
        "print('Train accuracy:', score1[1])\n",
        "print('Test loss:', score3[0])\n",
        "print('Test accuracy:', score3[1])\n",
        "print('Train2 loss:', score[0])\n",
        "print('Train2 accuracy:', score[1])\n",
        "print('Train3 loss:', score2[0])\n",
        "print('Train3 accuracy:', score2[1])"
      ]
    },
    {
      "cell_type": "code",
      "execution_count": null,
      "metadata": {
        "id": "XENCM2VZ4Z0K"
      },
      "outputs": [],
      "source": []
    }
  ],
  "metadata": {
    "colab": {
      "provenance": []
    },
    "kernelspec": {
      "display_name": "Python 3",
      "language": "python",
      "name": "python3"
    },
    "language_info": {
      "codemirror_mode": {
        "name": "ipython",
        "version": 3
      },
      "file_extension": ".py",
      "mimetype": "text/x-python",
      "name": "python",
      "nbconvert_exporter": "python",
      "pygments_lexer": "ipython3",
      "version": "3.6.4"
    }
  },
  "nbformat": 4,
  "nbformat_minor": 0
}